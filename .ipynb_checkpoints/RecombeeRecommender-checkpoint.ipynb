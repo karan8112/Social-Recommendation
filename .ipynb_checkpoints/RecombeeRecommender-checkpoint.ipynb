{
 "cells": [
  {
   "cell_type": "markdown",
   "metadata": {},
   "source": [
    "# Connecting to Recombee using Recombee Client API"
   ]
  },
  {
   "cell_type": "code",
   "execution_count": 11,
   "metadata": {
    "scrolled": true
   },
   "outputs": [],
   "source": [
    "#Python Recombee\n",
    "from recombee_api_client.api_client import RecombeeClient\n",
    "from recombee_api_client.api_requests import *\n",
    "import json\n",
    "\n",
    "client = RecombeeClient('ewa-sem-proj-dev', 'gZnZYXh3tk1QGAp4vinf4P6wpI6pA0P4xYkEGMiGnRtBWtUa7UHZesIcOJHBdSbp')\n",
    "#print(client);"
   ]
  },
  {
   "cell_type": "markdown",
   "metadata": {},
   "source": [
    "# Connecting to MySQL database to get the data and save it as JSON. For this Pandas has been used."
   ]
  },
  {
   "cell_type": "code",
   "execution_count": 12,
   "metadata": {},
   "outputs": [],
   "source": [
    "import json\n",
    "import pymysql\n",
    "import pandas\n",
    "\n",
    "conn = pymysql.connect(host='127.0.0.1', port=3306, user='root', password='root', database='SocialRecommendation')\n",
    "cursor = conn.cursor()\n",
    "\n",
    "# Quering data for getting the revies data for recommendation\n",
    "query = 'select distinct(userid) as _userid, REPLACE(LTRIM(RTRIM(name)), SPACE(1),\"_\") as _name, reviewrating as _reviewrating  from review'\n",
    "\n",
    "results = pandas.read_sql_query(query, conn)\n",
    "results.to_json(\"data_train.json\",orient='records')\n",
    "\n",
    "# Getting the list of distinct users from review table.\n",
    "query_users='select distinct(userid) as _userid from review'\n",
    "\n",
    "results = pandas.read_sql_query(query_users, conn)\n",
    "results.to_json(\"data_train_users.json\",orient='records')"
   ]
  },
  {
   "cell_type": "code",
   "execution_count": 3,
   "metadata": {},
   "outputs": [
    {
     "data": {
      "text/plain": [
       "'ok'"
      ]
     },
     "execution_count": 3,
     "metadata": {},
     "output_type": "execute_result"
    }
   ],
   "source": [
    "#client.send(DeleteItem('SamsungQLED'))\n",
    "#client.send(AddItemProperty('_userid','string'))\n",
    "#client.send(AddItemProperty('_name','string'))\n",
    "#client.send(AddItemProperty('_reviewrating','string'))"
   ]
  },
  {
   "cell_type": "markdown",
   "metadata": {},
   "source": [
    "# Inserting data to Recombee server that will be used further for recommendation."
   ]
  },
  {
   "cell_type": "code",
   "execution_count": 13,
   "metadata": {
    "scrolled": true
   },
   "outputs": [
    {
     "name": "stdout",
     "output_type": "stream",
     "text": [
      "Data added to request - Millennium_Park\n",
      "Data added to request - India_House_Restaurant_-_Chicago\n",
      "Data added to request - Bombay_Wraps\n",
      "Data added to request - Lickity_Split_Frozen_Custard\n",
      "Data added to request - Taste_of_Peru\n",
      "Data added to request - Pita_Inn\n",
      "Data added to request - Captains_Walk_Shopping_Mall\n",
      "Data added to request - Skokie_Fashion_Square\n",
      "Data added to request - Jewel-Osco\n",
      "Data added to request - Parivar_Grocers\n",
      "Data added to request - Patel_Brothers\n",
      "Data added to request - Shedd_Aquarium\n",
      "Data added to request - Bar_Louie_-_Naperville\n",
      "Data added to request - Pub_56\n",
      "Data added to request - Quigley\n",
      "Data added to request - Stateway_Park\n",
      "Data added to request - Chicago_Curry_House_Restaurant\n",
      "Data added to request - Nepal_House_Indian_Nepalese_Restaurant\n",
      "Data successfully pushed to Recombee server.\n"
     ]
    }
   ],
   "source": [
    "requests = []\n",
    "with open('data_train.json') as f:\n",
    "    data = json.loads(f.read())\n",
    "    for item in data:\n",
    "        print(\"Data added to request - \"+ item['_name'])\n",
    "        r = SetItemValues(item['_name'], item, cascade_create=True)\n",
    "        requests.append(r)\n",
    "\n",
    "res = client.send(Batch(requests))\n",
    "print(\"Data successfully pushed to Recombee server.\")"
   ]
  },
  {
   "cell_type": "markdown",
   "metadata": {},
   "source": [
    "# Performing recommendation for each user based on the data that was pushed and the recommended data is being stored as csv file."
   ]
  },
  {
   "cell_type": "code",
   "execution_count": 14,
   "metadata": {},
   "outputs": [
    {
     "name": "stdout",
     "output_type": "stream",
     "text": [
      "user1 ['Bombay Wraps','India House Restaurant - Chicago','Nepal House Indian Nepalese Restaurant','Pita Inn','Parivar Grocers','Patel Brothers','Chicago Curry House Restaurant','Quigley','Shedd Aquarium','Pub 56']\n",
      "user2 ['Pub 56','Taste of Peru','Nepal House Indian Nepalese Restaurant','Parivar Grocers','Millennium Park','Bar Louie - Naperville','Stateway Park','Patel Brothers','Quigley','Bombay Wraps']\n",
      "user3 ['Captains Walk Shopping Mall','Skokie Fashion Square','Nepal House Indian Nepalese Restaurant','Parivar Grocers','Millennium Park','Patel Brothers','Chicago Curry House Restaurant','Quigley','Bombay Wraps','Shedd Aquarium']\n",
      "user4 ['Parivar Grocers','Patel Brothers','Stateway Park','Captains Walk Shopping Mall','Skokie Fashion Square','Taste of Peru','Bar Louie - Naperville','India House Restaurant - Chicago','Pub 56','Nepal House Indian Nepalese Restaurant']\n",
      "user5 ['Quigley','Pub 56','Bar Louie - Naperville','Nepal House Indian Nepalese Restaurant','Pita Inn','Parivar Grocers','Millennium Park','Patel Brothers','Chicago Curry House Restaurant','Bombay Wraps']\n",
      "test ['Captains Walk Shopping Mall','Skokie Fashion Square','Taste of Peru','Bar Louie - Naperville','Jewel-Osco','India House Restaurant - Chicago','Pub 56','Nepal House Indian Nepalese Restaurant','Pita Inn','Parivar Grocers']\n",
      "test1 ['Nepal House Indian Nepalese Restaurant','Pita Inn','Parivar Grocers','Millennium Park','Patel Brothers','Quigley','Bombay Wraps','Shedd Aquarium','Pub 56','Bar Louie - Naperville']\n",
      "user6 ['Pita Inn','Parivar Grocers','Millennium Park','Patel Brothers','Chicago Curry House Restaurant','Quigley','Bombay Wraps','Shedd Aquarium','Pub 56','Bar Louie - Naperville']\n"
     ]
    }
   ],
   "source": [
    "\n",
    "import csv\n",
    "\n",
    "out =open('output_recombee.csv','w',newline='')\n",
    "output = csv.writer(out)\n",
    "name =''\n",
    "\n",
    "# Fetching the list of users from Json File\n",
    "with open('data_train_users.json') as g:\n",
    "    users = json.loads(g.read())\n",
    "    for user in users:\n",
    "        #print(user['_userid'])\n",
    "        # For each user,perform the recommendation\n",
    "        with open('data_train.json') as f:\n",
    "            interactions = json.loads(f.read())   \n",
    "            for item in interactions:\n",
    "                if(user['_userid']==item['_userid']):\n",
    "                    recommended = client.send(RecommendItemsToItem(item['_name'], item['_userid'], 10, cascade_create=True))\n",
    "                    name='['\n",
    "                    end=']'\n",
    "                    for re in recommended['recomms']:\n",
    "                        name += '\\''+re['id']+'\\','\n",
    "                    name+=end\n",
    "                    name=name.replace(\",]\",\"]\")\n",
    "                    name=name.replace(\"_\",\" \")\n",
    "                    print(item['_userid'],name)\n",
    "                    output.writerow([item['_userid'],name])\n",
    "                    break;\n",
    "out.close()\n",
    "        "
   ]
  },
  {
   "cell_type": "code",
   "execution_count": 194,
   "metadata": {},
   "outputs": [],
   "source": [
    "\n"
   ]
  }
 ],
 "metadata": {
  "kernelspec": {
   "display_name": "Python 3",
   "language": "python",
   "name": "python3"
  },
  "language_info": {
   "codemirror_mode": {
    "name": "ipython",
    "version": 3
   },
   "file_extension": ".py",
   "mimetype": "text/x-python",
   "name": "python",
   "nbconvert_exporter": "python",
   "pygments_lexer": "ipython3",
   "version": "3.5.5"
  }
 },
 "nbformat": 4,
 "nbformat_minor": 2
}
